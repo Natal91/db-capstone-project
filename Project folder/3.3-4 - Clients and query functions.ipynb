{
 "cells": [
  {
   "cell_type": "code",
   "execution_count": 1,
   "id": "6d828a71-2026-4d8b-8c77-2bbffb43a65d",
   "metadata": {},
   "outputs": [
    {
     "name": "stdout",
     "output_type": "stream",
     "text": [
      "Requirement already satisfied: mysql-connector-python in c:\\users\\nathalja\\appdata\\local\\programs\\python\\python312\\lib\\site-packages (8.3.0)\n"
     ]
    }
   ],
   "source": [
    "!pip install mysql-connector-python"
   ]
  },
  {
   "cell_type": "code",
   "execution_count": 2,
   "id": "20df984e-351b-46b2-8918-7b908b135550",
   "metadata": {},
   "outputs": [],
   "source": [
    "import mysql.connector as connector"
   ]
  },
  {
   "cell_type": "code",
   "execution_count": 4,
   "id": "c2a3adf4-6f0c-4859-b35b-7b8af81df852",
   "metadata": {},
   "outputs": [],
   "source": [
    "connection = connector.connect(user = \"yourusername\", password = \"yourpassword\", db = \"LittleLemonDB\")"
   ]
  },
  {
   "cell_type": "code",
   "execution_count": 5,
   "id": "41efe4b7-2b2f-416d-a885-72c16d794511",
   "metadata": {},
   "outputs": [],
   "source": [
    "cursor = connection.cursor()"
   ]
  },
  {
   "cell_type": "code",
   "execution_count": 12,
   "id": "30decd05-45aa-4c01-922e-d9041108811b",
   "metadata": {},
   "outputs": [
    {
     "name": "stdout",
     "output_type": "stream",
     "text": [
      "[('actions',), ('bookings',), ('customer',), ('deliverystatus',), ('menu',), ('menuitems',), ('orders',), ('ordersview',), ('staff',)]\n"
     ]
    }
   ],
   "source": [
    "# Task 2: show all tables in database\n",
    "\n",
    "show_tables_query = \"SHOW tables\"\n",
    "cursor.execute(show_tables_query)\n",
    "results = cursor.fetchall()\n",
    "print(results)"
   ]
  },
  {
   "cell_type": "code",
   "execution_count": 13,
   "id": "8d167c60-ee2b-400f-bc11-877289f963b0",
   "metadata": {},
   "outputs": [],
   "source": [
    "# Task 3: Query with table JOIN\n",
    "\n",
    "join_query = '''SELECT Customer.FirstName, Customer.LastName, Customer.Email, Customer.PhoneNo, Orders.TotalCost\n",
    "FROM Customer INNER JOIN Orders ON Customer.CustomerID = Orders.CustomerID\n",
    "WHERE TotalCost > 60'''\n",
    "\n",
    "cursor.execute(join_query)\n",
    "results = cursor.fetchall()\n",
    "for i in results:\n",
    "    print(i)"
   ]
  },
  {
   "cell_type": "code",
   "execution_count": null,
   "id": "00fc02c7-3739-4967-bc18-42fca7f3e445",
   "metadata": {},
   "outputs": [],
   "source": []
  }
 ],
 "metadata": {
  "kernelspec": {
   "display_name": "Python 3 (ipykernel)",
   "language": "python",
   "name": "python3"
  },
  "language_info": {
   "codemirror_mode": {
    "name": "ipython",
    "version": 3
   },
   "file_extension": ".py",
   "mimetype": "text/x-python",
   "name": "python",
   "nbconvert_exporter": "python",
   "pygments_lexer": "ipython3",
   "version": "3.12.1"
  }
 },
 "nbformat": 4,
 "nbformat_minor": 5
}
